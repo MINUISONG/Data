{
 "cells": [
  {
   "cell_type": "markdown",
   "id": "9e92f1e0-a354-4092-a572-3719188e2d46",
   "metadata": {},
   "source": [
    "# Pandas\n",
    "\n",
    "파이썬에서 사용하는 데이터 분석 라이브러리"
   ]
  },
  {
   "cell_type": "code",
   "execution_count": 3,
   "id": "2e0f37de-e93d-4ebd-a87a-79c1a91a088d",
   "metadata": {},
   "outputs": [],
   "source": [
    "import pandas as pd"
   ]
  },
  {
   "cell_type": "markdown",
   "id": "748ec847-a17d-4a26-bd19-f910875a5834",
   "metadata": {},
   "source": [
    "---\n",
    "# 1.Series\n",
    "1차원 데이터 (정수, 실수, 문자열 등)\n",
    "\n",
    "## Series 객체 생성"
   ]
  },
  {
   "cell_type": "code",
   "execution_count": 9,
   "id": "5002bdb7-7d52-4391-aa28-ff94caededa5",
   "metadata": {},
   "outputs": [
    {
     "data": {
      "text/plain": [
       "0   -20\n",
       "1   -10\n",
       "2    10\n",
       "3    20\n",
       "dtype: int64"
      ]
     },
     "execution_count": 9,
     "metadata": {},
     "output_type": "execute_result"
    }
   ],
   "source": [
    "temp = pd.Series([-20,-10,10,20])\n",
    "temp"
   ]
  },
  {
   "cell_type": "code",
   "execution_count": 11,
   "id": "d5f453e8-7b71-4201-86ae-3a0a2d41e838",
   "metadata": {},
   "outputs": [
    {
     "data": {
      "text/plain": [
       "-20"
      ]
     },
     "execution_count": 11,
     "metadata": {},
     "output_type": "execute_result"
    }
   ],
   "source": [
    "temp[0] # 1월 온도"
   ]
  },
  {
   "cell_type": "markdown",
   "id": "a3fe89ae-3e5d-4c39-b3e6-653d98850324",
   "metadata": {},
   "source": [
    "## Series 객체 생성 (Index 지정)"
   ]
  },
  {
   "cell_type": "code",
   "execution_count": 19,
   "id": "98361cf5-d1dc-45b4-a8ac-7db38f4079e7",
   "metadata": {},
   "outputs": [
    {
     "data": {
      "text/plain": [
       "jan   -20\n",
       "feb   -10\n",
       "mar    10\n",
       "apr    20\n",
       "dtype: int64"
      ]
     },
     "execution_count": 19,
     "metadata": {},
     "output_type": "execute_result"
    }
   ],
   "source": [
    "temp = pd.Series([-20,-10,10,20], index = ['jan', 'feb', 'mar', 'apr'])\n",
    "temp"
   ]
  },
  {
   "cell_type": "code",
   "execution_count": 27,
   "id": "d1cbddb9-9d56-4e87-88ad-09ae768d4572",
   "metadata": {},
   "outputs": [
    {
     "data": {
      "text/plain": [
       "-20"
      ]
     },
     "execution_count": 27,
     "metadata": {},
     "output_type": "execute_result"
    }
   ],
   "source": [
    "temp['jan'] #인덱스를 0대신 지정한 값으로 접근 가능"
   ]
  },
  {
   "cell_type": "code",
   "execution_count": null,
   "id": "4ef4ef25-07e6-4205-a7d1-7abc5ca07802",
   "metadata": {},
   "outputs": [],
   "source": []
  }
 ],
 "metadata": {
  "kernelspec": {
   "display_name": "Python 3 (ipykernel)",
   "language": "python",
   "name": "python3"
  },
  "language_info": {
   "codemirror_mode": {
    "name": "ipython",
    "version": 3
   },
   "file_extension": ".py",
   "mimetype": "text/x-python",
   "name": "python",
   "nbconvert_exporter": "python",
   "pygments_lexer": "ipython3",
   "version": "3.12.7"
  }
 },
 "nbformat": 4,
 "nbformat_minor": 5
}
