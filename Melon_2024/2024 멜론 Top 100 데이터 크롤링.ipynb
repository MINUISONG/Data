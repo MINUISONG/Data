{
 "cells": [
  {
   "cell_type": "markdown",
   "id": "291fd90b-50dd-4bd8-ab17-9d96ad422b14",
   "metadata": {},
   "source": [
    "# 웹 크롤링"
   ]
  },
  {
   "cell_type": "markdown",
   "id": "4db3741e-a4f7-4934-989f-2bb8150a91d1",
   "metadata": {},
   "source": [
    "## 1. selenium\n",
    "\n",
    "동적으로 생성된 웹 콘텐츠 (JavaScript)를 처리하고 스크래핑 할 때 유리"
   ]
  },
  {
   "cell_type": "markdown",
   "id": "e0a727d3-7250-46d8-99b2-5f303469dece",
   "metadata": {},
   "source": [
    "## 2. BeautifulSoup\n",
    "\n",
    "정적으로 생성된 웹 콘텐츠 (HTML)을 처리하고 스크래핑 할 때 유리"
   ]
  },
  {
   "cell_type": "markdown",
   "id": "b7a52cc5-ff74-47e2-8b0f-9f087f6d1aa7",
   "metadata": {},
   "source": [
    "-  두가지를 적절하게 사용해 퍼포먼스 강화"
   ]
  },
  {
   "cell_type": "markdown",
   "id": "846f4c2f-8fbc-4774-b5a8-9e6a80d185c9",
   "metadata": {},
   "source": [
    "## 멜론 top 100 월간 차트"
   ]
  },
  {
   "cell_type": "code",
   "execution_count": 11,
   "id": "f24e8d11-0afa-4e5b-9258-04be229de248",
   "metadata": {},
   "outputs": [
    {
     "data": {
      "text/plain": [
       "' \\nxpath 경로 복사!\\nXPath는 XML Path Language의 약자로, XML 및 HTML 문서 내에서 특정 요소나 속성을 선택하기 위한 언어입니다\\n'"
      ]
     },
     "execution_count": 11,
     "metadata": {},
     "output_type": "execute_result"
    }
   ],
   "source": [
    "\"\"\" \n",
    "xpath 경로 복사!\n",
    "XPath는 XML Path Language의 약자로, XML 및 HTML 문서 내에서 특정 요소나 속성을 선택하기 위한 언어입니다\n",
    "\"\"\"\n",
    "\n",
    "# 멜론차트 : //*[@id=\"gnb_menu\"]/ul[1]/li[1]/a/span[2]\n",
    "# 월간    : //*[@id=\"gnb_menu\"]/ul[1]/li[1]/div/ul/li[5]/a/span\n",
    "# 월 선택  : //*[@id=\"conts\"]/div[3]/div/button\n",
    "# 1월     : //*[@id=\"conts\"]/div[3]/div/div/dl/dd[1]/ul/li[1]/a\n",
    "# 2월     : //*[@id=\"conts\"]/div[3]/div/div/dl/dd[1]/ul/li[2]/a/span"
   ]
  },
  {
   "cell_type": "code",
   "execution_count": 40,
   "id": "e0ec17d3-1988-45f0-bb80-4ec99a2a3bf5",
   "metadata": {},
   "outputs": [
    {
     "ename": "SyntaxError",
     "evalue": "invalid syntax (156006033.py, line 7)",
     "output_type": "error",
     "traceback": [
      "\u001b[0;36m  Cell \u001b[0;32mIn[40], line 7\u001b[0;36m\u001b[0m\n\u001b[0;31m    rm -rf ~/.wdm\u001b[0m\n\u001b[0m           ^\u001b[0m\n\u001b[0;31mSyntaxError\u001b[0m\u001b[0;31m:\u001b[0m invalid syntax\n"
     ]
    }
   ],
   "source": [
    "'''\n",
    "%pip install webdriver-manager\n",
    "%pip install selenium\n",
    "!pip install beautifulsoup4\n",
    "'''\n",
    "#%pip install --upgrade webdriver-manager"
   ]
  },
  {
   "cell_type": "code",
   "execution_count": 46,
   "id": "eda3e2db-1366-46e2-83cf-db128d244432",
   "metadata": {},
   "outputs": [
    {
     "name": "stdout",
     "output_type": "stream",
     "text": [
      "     순위                              제목         가수    장르\n",
      "0     1  HOME SWEET HOME (feat. 태양, 대성)   G-DRAGON  랩/힙합\n",
      "1     2                            APT.  로제 (ROSÉ)    댄스\n",
      "2     3                        Whiplash      aespa    댄스\n",
      "3     4                          나는 반딧불        황가람   발라드\n",
      "4     5                           POWER   G-DRAGON  랩/힙합\n",
      "..  ...                             ...        ...   ...\n",
      "95   96                     가까운 듯 먼 그대여       카더가든   발라드\n",
      "96   97                       Do or Die        임영웅    댄스\n",
      "97   98                         버추얼 아이돌      PLAVE  랩/힙합\n",
      "98   99                      London Boy        임영웅  록/메탈\n",
      "99  100                          오래된 노래         허각   발라드\n",
      "\n",
      "[100 rows x 4 columns]\n"
     ]
    }
   ],
   "source": [
    "from bs4 import BeautifulSoup as bs\n",
    "import pandas as pd\n",
    "from webdriver_manager.chrome import ChromeDriverManager\n",
    "from selenium import webdriver\n",
    "from selenium.webdriver.common.by import By\n",
    "from selenium.webdriver.chrome.service import Service\n",
    "from selenium.webdriver.support.ui import WebDriverWait\n",
    "from selenium.webdriver.support import expected_conditions as EC\n",
    "import time\n",
    "\n",
    "# 크롬 옵션 지정\n",
    "options = webdriver.ChromeOptions()\n",
    "\n",
    "# 크롤링 막는 것을 피하기 위해 에이전트 입력 (사람처럼 보이게 하기)\n",
    "UserAgent = 'Mozilla/5.0 (Macintosh; Intel Mac OS X 10_15_7) AppleWebKit/537.36 (KHTML, like Gecko) Chrome/131.0.0.0 Safari/537.36'\n",
    "options.add_argument('user-agent=' + UserAgent)\n",
    "\n",
    "# 드라이버 설정 (자동 다운로드 및 적용)\n",
    "driver = webdriver.Chrome(service=Service(ChromeDriverManager().install()), options=options)\n",
    "driver.implicitly_wait(10)\n",
    "driver.get(url='https://www.melon.com/')\n",
    "\n",
    "# 멜론 차트 이동\n",
    "driver.find_element(By.XPATH, '//*[@id=\"gnb_menu\"]/ul[1]/li[1]/a/span[2]').click()\n",
    "time.sleep(1)\n",
    "\n",
    "# 월간 차트 이동\n",
    "driver.find_element(By.XPATH, '//*[@id=\"gnb_menu\"]/ul[1]/li[1]/div/ul/li[5]/a/span').click()\n",
    "time.sleep(1)\n",
    "\n",
    "# 월 선택\n",
    "driver.find_element(By.XPATH, '//*[@id=\"conts\"]/div[3]/div/button').click()\n",
    "time.sleep(1)\n",
    "driver.find_element(By.XPATH, '//*[@id=\"conts\"]/div[3]/div/div/dl/dd[1]/ul/li[12]/a').click()\n",
    "time.sleep(1)\n",
    "\n",
    "# 곡 정보 추출\n",
    "song_data = []\n",
    "\n",
    "\n",
    "for rank in range(1, 101):  # 상위 5곡만 추출 (테스트 목적)\n",
    "    #for rank in range(1, 101):  # 상위 100곡 추출\n",
    "    # 곡 리스트 가져오기\n",
    "    if rank <= 50:\n",
    "        xpath = '//tr[contains(@class, \"lst50\")]'\n",
    "    else:\n",
    "        xpath = '//tr[contains(@class, \"lst100\")]'\n",
    "\n",
    "    songs = WebDriverWait(driver, 10).until(\n",
    "        EC.presence_of_all_elements_located((By.XPATH, xpath))\n",
    "    )\n",
    "    song = songs[(rank - 1) % 50]  # 1~50과 51~100의 인덱스를 조정\n",
    "\n",
    "    # 곡 고유 ID 추출\n",
    "    song_id = song.get_attribute(\"data-song-no\")\n",
    "\n",
    "    # 제목과 가수 정보 추출\n",
    "    title_element = song.find_element(By.XPATH, './td[6]/div/div/div[1]/span/a')\n",
    "    artist_element = song.find_element(By.XPATH, './td[6]/div/div/div[2]/a')\n",
    "\n",
    "    song_title = title_element.text\n",
    "    song_artist = artist_element.text\n",
    "\n",
    "    # 곡 상세 페이지 이동 (고유 ID 사용)\n",
    "    driver.get(f'https://www.melon.com/song/detail.htm?songId={song_id}')\n",
    "    time.sleep(0.5)\n",
    "\n",
    "    # 장르 정보 추출\n",
    "    try:\n",
    "        soup = bs(driver.page_source, 'html.parser')\n",
    "        genre = soup.select_one('dl.list > dd:nth-of-type(3)').text.strip()\n",
    "    except AttributeError:\n",
    "        genre = '정보 없음'\n",
    "\n",
    "    # 데이터 저장\n",
    "    song_data.append({\n",
    "        '순위': rank,\n",
    "        '제목': song_title,\n",
    "        '가수': song_artist,\n",
    "        '장르': genre\n",
    "    })\n",
    "\n",
    "    # 월간 차트 1월 URL로 돌아가기\n",
    "    driver.get('https://www.melon.com/chart/month/index.htm')\n",
    "    time.sleep(0.5)\n",
    "    driver.find_element(By.XPATH, '//*[@id=\"conts\"]/div[3]/div/button').click()\n",
    "    time.sleep(0.5)\n",
    "    driver.find_element(By.XPATH, '//*[@id=\"conts\"]/div[3]/div/div/dl/dd[1]/ul/li[12]/a').click()\n",
    "    time.sleep(0.5)\n",
    "\n",
    "# CSV 파일로 저장\n",
    "df = pd.DataFrame(song_data)\n",
    "print(df)\n",
    "\n",
    "driver.quit()"
   ]
  },
  {
   "cell_type": "code",
   "execution_count": null,
   "id": "80b23faa-6b89-41c9-ae9c-95d53fb287b9",
   "metadata": {},
   "outputs": [],
   "source": [
    "df.to_csv('melon_chart_12month.csv', index=False, encoding='utf-8-sig')"
   ]
  }
 ],
 "metadata": {
  "kernelspec": {
   "display_name": "Python 3 (ipykernel)",
   "language": "python",
   "name": "python3"
  },
  "language_info": {
   "codemirror_mode": {
    "name": "ipython",
    "version": 3
   },
   "file_extension": ".py",
   "mimetype": "text/x-python",
   "name": "python",
   "nbconvert_exporter": "python",
   "pygments_lexer": "ipython3",
   "version": "3.12.7"
  }
 },
 "nbformat": 4,
 "nbformat_minor": 5
}
