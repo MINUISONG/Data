{
 "cells": [
  {
   "cell_type": "markdown",
   "id": "9c81fca2-f8ed-4e5c-956f-d8e018a72d31",
   "metadata": {},
   "source": [
    "# 남자 데이터"
   ]
  },
  {
   "cell_type": "code",
   "execution_count": 41,
   "id": "d4b4aec4-0f08-43d3-829e-63dfa8eeeac5",
   "metadata": {},
   "outputs": [
    {
     "name": "stderr",
     "output_type": "stream",
     "text": [
      "/opt/anaconda3/lib/python3.12/site-packages/openpyxl/styles/stylesheet.py:237: UserWarning: Workbook contains no default style, apply openpyxl's default\n",
      "  warn(\"Workbook contains no default style, apply openpyxl's default\")\n"
     ]
    }
   ],
   "source": [
    "import pandas as pd\n",
    "\n",
    "df_m = pd.read_excel('행정동별 연령별 인구현황 2014.xlsx', skiprows = 3, index_col = '행정기관', usecols = 'B, E:Y')"
   ]
  },
  {
   "cell_type": "code",
   "execution_count": 13,
   "id": "b363a272-886e-4aea-ab49-3e7bc3412028",
   "metadata": {},
   "outputs": [
    {
     "data": {
      "text/html": [
       "<div>\n",
       "<style scoped>\n",
       "    .dataframe tbody tr th:only-of-type {\n",
       "        vertical-align: middle;\n",
       "    }\n",
       "\n",
       "    .dataframe tbody tr th {\n",
       "        vertical-align: top;\n",
       "    }\n",
       "\n",
       "    .dataframe thead th {\n",
       "        text-align: right;\n",
       "    }\n",
       "</style>\n",
       "<table border=\"1\" class=\"dataframe\">\n",
       "  <thead>\n",
       "    <tr style=\"text-align: right;\">\n",
       "      <th></th>\n",
       "      <th>0~4세</th>\n",
       "      <th>5~9세</th>\n",
       "      <th>10~14세</th>\n",
       "      <th>15~19세</th>\n",
       "      <th>20~24세</th>\n",
       "      <th>25~29세</th>\n",
       "      <th>30~34세</th>\n",
       "      <th>35~39세</th>\n",
       "      <th>40~44세</th>\n",
       "      <th>45~49세</th>\n",
       "      <th>...</th>\n",
       "      <th>55~59세</th>\n",
       "      <th>60~64세</th>\n",
       "      <th>65~69세</th>\n",
       "      <th>70~74세</th>\n",
       "      <th>75~79세</th>\n",
       "      <th>80~84세</th>\n",
       "      <th>85~89세</th>\n",
       "      <th>90~94세</th>\n",
       "      <th>95~99세</th>\n",
       "      <th>100세 이상</th>\n",
       "    </tr>\n",
       "    <tr>\n",
       "      <th>행정기관</th>\n",
       "      <th></th>\n",
       "      <th></th>\n",
       "      <th></th>\n",
       "      <th></th>\n",
       "      <th></th>\n",
       "      <th></th>\n",
       "      <th></th>\n",
       "      <th></th>\n",
       "      <th></th>\n",
       "      <th></th>\n",
       "      <th></th>\n",
       "      <th></th>\n",
       "      <th></th>\n",
       "      <th></th>\n",
       "      <th></th>\n",
       "      <th></th>\n",
       "      <th></th>\n",
       "      <th></th>\n",
       "      <th></th>\n",
       "      <th></th>\n",
       "      <th></th>\n",
       "    </tr>\n",
       "  </thead>\n",
       "  <tbody>\n",
       "    <tr>\n",
       "      <th>전국</th>\n",
       "      <td>1,178,326</td>\n",
       "      <td>1,184,754</td>\n",
       "      <td>1,387,285</td>\n",
       "      <td>1,743,200</td>\n",
       "      <td>1,852,508</td>\n",
       "      <td>1,638,106</td>\n",
       "      <td>2,004,817</td>\n",
       "      <td>1,980,982</td>\n",
       "      <td>2,311,387</td>\n",
       "      <td>2,232,995</td>\n",
       "      <td>...</td>\n",
       "      <td>1,920,820</td>\n",
       "      <td>1,290,056</td>\n",
       "      <td>994,183</td>\n",
       "      <td>800,094</td>\n",
       "      <td>540,915</td>\n",
       "      <td>255,600</td>\n",
       "      <td>95,969</td>\n",
       "      <td>30,434</td>\n",
       "      <td>6,200</td>\n",
       "      <td>3,500</td>\n",
       "    </tr>\n",
       "    <tr>\n",
       "      <th>서울특별시</th>\n",
       "      <td>207,551</td>\n",
       "      <td>200,111</td>\n",
       "      <td>236,548</td>\n",
       "      <td>305,351</td>\n",
       "      <td>355,216</td>\n",
       "      <td>373,676</td>\n",
       "      <td>454,908</td>\n",
       "      <td>406,697</td>\n",
       "      <td>451,283</td>\n",
       "      <td>413,756</td>\n",
       "      <td>...</td>\n",
       "      <td>371,728</td>\n",
       "      <td>260,560</td>\n",
       "      <td>207,207</td>\n",
       "      <td>162,278</td>\n",
       "      <td>97,193</td>\n",
       "      <td>42,350</td>\n",
       "      <td>16,541</td>\n",
       "      <td>6,016</td>\n",
       "      <td>1,500</td>\n",
       "      <td>1,209</td>\n",
       "    </tr>\n",
       "    <tr>\n",
       "      <th>부산광역시</th>\n",
       "      <td>69,190</td>\n",
       "      <td>66,453</td>\n",
       "      <td>81,610</td>\n",
       "      <td>111,850</td>\n",
       "      <td>130,324</td>\n",
       "      <td>110,566</td>\n",
       "      <td>131,799</td>\n",
       "      <td>125,796</td>\n",
       "      <td>143,422</td>\n",
       "      <td>142,723</td>\n",
       "      <td>...</td>\n",
       "      <td>151,107</td>\n",
       "      <td>111,179</td>\n",
       "      <td>82,870</td>\n",
       "      <td>64,681</td>\n",
       "      <td>38,399</td>\n",
       "      <td>16,575</td>\n",
       "      <td>5,724</td>\n",
       "      <td>1,620</td>\n",
       "      <td>312</td>\n",
       "      <td>308</td>\n",
       "    </tr>\n",
       "  </tbody>\n",
       "</table>\n",
       "<p>3 rows × 21 columns</p>\n",
       "</div>"
      ],
      "text/plain": [
       "              0~4세       5~9세     10~14세     15~19세     20~24세     25~29세  \\\n",
       "행정기관                                                                        \n",
       "전국       1,178,326  1,184,754  1,387,285  1,743,200  1,852,508  1,638,106   \n",
       "서울특별시      207,551    200,111    236,548    305,351    355,216    373,676   \n",
       "부산광역시       69,190     66,453     81,610    111,850    130,324    110,566   \n",
       "\n",
       "            30~34세     35~39세     40~44세     45~49세  ...     55~59세  \\\n",
       "행정기관                                                 ...              \n",
       "전국       2,004,817  1,980,982  2,311,387  2,232,995  ...  1,920,820   \n",
       "서울특별시      454,908    406,697    451,283    413,756  ...    371,728   \n",
       "부산광역시      131,799    125,796    143,422    142,723  ...    151,107   \n",
       "\n",
       "            60~64세   65~69세   70~74세   75~79세   80~84세  85~89세  90~94세 95~99세  \\\n",
       "행정기관                                                                            \n",
       "전국       1,290,056  994,183  800,094  540,915  255,600  95,969  30,434  6,200   \n",
       "서울특별시      260,560  207,207  162,278   97,193   42,350  16,541   6,016  1,500   \n",
       "부산광역시      111,179   82,870   64,681   38,399   16,575   5,724   1,620    312   \n",
       "\n",
       "        100세 이상  \n",
       "행정기관             \n",
       "전국        3,500  \n",
       "서울특별시     1,209  \n",
       "부산광역시       308  \n",
       "\n",
       "[3 rows x 21 columns]"
      ]
     },
     "execution_count": 13,
     "metadata": {},
     "output_type": "execute_result"
    }
   ],
   "source": [
    "df_m.head(3)"
   ]
  },
  {
   "cell_type": "code",
   "execution_count": 14,
   "id": "c933f7f0-47a8-4967-9a8d-7fbdd56c6d1b",
   "metadata": {},
   "outputs": [
    {
     "data": {
      "text/plain": [
       "0~4세       1,178,326\n",
       "5~9세       1,184,754\n",
       "10~14세     1,387,285\n",
       "15~19세     1,743,200\n",
       "20~24세     1,852,508\n",
       "25~29세     1,638,106\n",
       "30~34세     2,004,817\n",
       "35~39세     1,980,982\n",
       "40~44세     2,311,387\n",
       "45~49세     2,232,995\n",
       "50~54세     2,217,165\n",
       "55~59세     1,920,820\n",
       "60~64세     1,290,056\n",
       "65~69세       994,183\n",
       "70~74세       800,094\n",
       "75~79세       540,915\n",
       "80~84세       255,600\n",
       "85~89세        95,969\n",
       "90~94세        30,434\n",
       "95~99세         6,200\n",
       "100세 이상        3,500\n",
       "Name: 전국  , dtype: object"
      ]
     },
     "execution_count": 14,
     "metadata": {},
     "output_type": "execute_result"
    }
   ],
   "source": [
    "df_m.iloc[0]"
   ]
  },
  {
   "cell_type": "code",
   "execution_count": 15,
   "id": "9e1ccd13-0ba6-4595-840c-15cc619c8a94",
   "metadata": {},
   "outputs": [],
   "source": [
    "df_m.iloc[0] = df_m.iloc[0].str.replace(',', '').astype(int) # 1,178,326 -> 1178326"
   ]
  },
  {
   "cell_type": "code",
   "execution_count": null,
   "id": "cf0383b8-aeea-4b53-9be0-b60358005a6a",
   "metadata": {},
   "outputs": [],
   "source": []
  },
  {
   "cell_type": "markdown",
   "id": "dc3e9c8e-7852-4a7b-85e9-f36c6c514075",
   "metadata": {},
   "source": [
    "# 여자 데이터"
   ]
  },
  {
   "cell_type": "code",
   "execution_count": 17,
   "id": "0968c4c3-167f-4a82-9b90-113c56d31af4",
   "metadata": {},
   "outputs": [
    {
     "name": "stderr",
     "output_type": "stream",
     "text": [
      "/opt/anaconda3/lib/python3.12/site-packages/openpyxl/styles/stylesheet.py:237: UserWarning: Workbook contains no default style, apply openpyxl's default\n",
      "  warn(\"Workbook contains no default style, apply openpyxl's default\")\n"
     ]
    },
    {
     "data": {
      "text/html": [
       "<div>\n",
       "<style scoped>\n",
       "    .dataframe tbody tr th:only-of-type {\n",
       "        vertical-align: middle;\n",
       "    }\n",
       "\n",
       "    .dataframe tbody tr th {\n",
       "        vertical-align: top;\n",
       "    }\n",
       "\n",
       "    .dataframe thead th {\n",
       "        text-align: right;\n",
       "    }\n",
       "</style>\n",
       "<table border=\"1\" class=\"dataframe\">\n",
       "  <thead>\n",
       "    <tr style=\"text-align: right;\">\n",
       "      <th></th>\n",
       "      <th>0~4세.1</th>\n",
       "      <th>5~9세.1</th>\n",
       "      <th>10~14세.1</th>\n",
       "      <th>15~19세.1</th>\n",
       "      <th>20~24세.1</th>\n",
       "      <th>25~29세.1</th>\n",
       "      <th>30~34세.1</th>\n",
       "      <th>35~39세.1</th>\n",
       "      <th>40~44세.1</th>\n",
       "      <th>45~49세.1</th>\n",
       "      <th>...</th>\n",
       "      <th>55~59세.1</th>\n",
       "      <th>60~64세.1</th>\n",
       "      <th>65~69세.1</th>\n",
       "      <th>70~74세.1</th>\n",
       "      <th>75~79세.1</th>\n",
       "      <th>80~84세.1</th>\n",
       "      <th>85~89세.1</th>\n",
       "      <th>90~94세.1</th>\n",
       "      <th>95~99세.1</th>\n",
       "      <th>100세 이상.1</th>\n",
       "    </tr>\n",
       "    <tr>\n",
       "      <th>행정기관</th>\n",
       "      <th></th>\n",
       "      <th></th>\n",
       "      <th></th>\n",
       "      <th></th>\n",
       "      <th></th>\n",
       "      <th></th>\n",
       "      <th></th>\n",
       "      <th></th>\n",
       "      <th></th>\n",
       "      <th></th>\n",
       "      <th></th>\n",
       "      <th></th>\n",
       "      <th></th>\n",
       "      <th></th>\n",
       "      <th></th>\n",
       "      <th></th>\n",
       "      <th></th>\n",
       "      <th></th>\n",
       "      <th></th>\n",
       "      <th></th>\n",
       "      <th></th>\n",
       "    </tr>\n",
       "  </thead>\n",
       "  <tbody>\n",
       "    <tr>\n",
       "      <th>전국</th>\n",
       "      <td>1,115,978</td>\n",
       "      <td>1,112,316</td>\n",
       "      <td>1,275,740</td>\n",
       "      <td>1,582,679</td>\n",
       "      <td>1,635,989</td>\n",
       "      <td>1,515,441</td>\n",
       "      <td>1,912,634</td>\n",
       "      <td>1,913,414</td>\n",
       "      <td>2,216,646</td>\n",
       "      <td>2,169,188</td>\n",
       "      <td>...</td>\n",
       "      <td>1,924,750</td>\n",
       "      <td>1,336,707</td>\n",
       "      <td>1,085,162</td>\n",
       "      <td>1,000,828</td>\n",
       "      <td>804,767</td>\n",
       "      <td>511,136</td>\n",
       "      <td>261,438</td>\n",
       "      <td>96,258</td>\n",
       "      <td>22,617</td>\n",
       "      <td>11,506</td>\n",
       "    </tr>\n",
       "    <tr>\n",
       "      <th>서울특별시</th>\n",
       "      <td>196,818</td>\n",
       "      <td>189,512</td>\n",
       "      <td>220,319</td>\n",
       "      <td>282,295</td>\n",
       "      <td>345,963</td>\n",
       "      <td>383,096</td>\n",
       "      <td>449,383</td>\n",
       "      <td>402,678</td>\n",
       "      <td>446,096</td>\n",
       "      <td>418,334</td>\n",
       "      <td>...</td>\n",
       "      <td>401,455</td>\n",
       "      <td>282,393</td>\n",
       "      <td>230,060</td>\n",
       "      <td>181,910</td>\n",
       "      <td>127,467</td>\n",
       "      <td>76,404</td>\n",
       "      <td>42,044</td>\n",
       "      <td>16,446</td>\n",
       "      <td>4,442</td>\n",
       "      <td>3,462</td>\n",
       "    </tr>\n",
       "    <tr>\n",
       "      <th>부산광역시</th>\n",
       "      <td>65,624</td>\n",
       "      <td>62,500</td>\n",
       "      <td>74,741</td>\n",
       "      <td>98,568</td>\n",
       "      <td>112,672</td>\n",
       "      <td>103,335</td>\n",
       "      <td>126,083</td>\n",
       "      <td>121,138</td>\n",
       "      <td>142,132</td>\n",
       "      <td>148,210</td>\n",
       "      <td>...</td>\n",
       "      <td>162,065</td>\n",
       "      <td>116,973</td>\n",
       "      <td>90,783</td>\n",
       "      <td>77,123</td>\n",
       "      <td>55,371</td>\n",
       "      <td>33,192</td>\n",
       "      <td>17,237</td>\n",
       "      <td>5,588</td>\n",
       "      <td>1,234</td>\n",
       "      <td>1,099</td>\n",
       "    </tr>\n",
       "  </tbody>\n",
       "</table>\n",
       "<p>3 rows × 21 columns</p>\n",
       "</div>"
      ],
      "text/plain": [
       "            0~4세.1     5~9세.1   10~14세.1   15~19세.1   20~24세.1   25~29세.1  \\\n",
       "행정기관                                                                        \n",
       "전국       1,115,978  1,112,316  1,275,740  1,582,679  1,635,989  1,515,441   \n",
       "서울특별시      196,818    189,512    220,319    282,295    345,963    383,096   \n",
       "부산광역시       65,624     62,500     74,741     98,568    112,672    103,335   \n",
       "\n",
       "          30~34세.1   35~39세.1   40~44세.1   45~49세.1  ...   55~59세.1  \\\n",
       "행정기관                                                 ...              \n",
       "전국       1,912,634  1,913,414  2,216,646  2,169,188  ...  1,924,750   \n",
       "서울특별시      449,383    402,678    446,096    418,334  ...    401,455   \n",
       "부산광역시      126,083    121,138    142,132    148,210  ...    162,065   \n",
       "\n",
       "          60~64세.1   65~69세.1   70~74세.1 75~79세.1 80~84세.1 85~89세.1 90~94세.1  \\\n",
       "행정기관                                                                           \n",
       "전국       1,336,707  1,085,162  1,000,828  804,767  511,136  261,438   96,258   \n",
       "서울특별시      282,393    230,060    181,910  127,467   76,404   42,044   16,446   \n",
       "부산광역시      116,973     90,783     77,123   55,371   33,192   17,237    5,588   \n",
       "\n",
       "        95~99세.1 100세 이상.1  \n",
       "행정기관                        \n",
       "전국        22,617    11,506  \n",
       "서울특별시      4,442     3,462  \n",
       "부산광역시      1,234     1,099  \n",
       "\n",
       "[3 rows x 21 columns]"
      ]
     },
     "execution_count": 17,
     "metadata": {},
     "output_type": "execute_result"
    }
   ],
   "source": [
    "df_w = pd.read_excel('행정동별 연령별 인구현황 2014.xlsx', skiprows = 3, index_col = '행정기관', usecols = 'B, AB:AV')\n",
    "df_w.head(3)"
   ]
  },
  {
   "cell_type": "code",
   "execution_count": 18,
   "id": "f852a571-ca2d-403c-be28-3e65b9aa1078",
   "metadata": {},
   "outputs": [
    {
     "data": {
      "text/plain": [
       "Index(['0~4세.1', '5~9세.1', '10~14세.1', '15~19세.1', '20~24세.1', '25~29세.1',\n",
       "       '30~34세.1', '35~39세.1', '40~44세.1', '45~49세.1', '50~54세.1', '55~59세.1',\n",
       "       '60~64세.1', '65~69세.1', '70~74세.1', '75~79세.1', '80~84세.1', '85~89세.1',\n",
       "       '90~94세.1', '95~99세.1', '100세 이상.1'],\n",
       "      dtype='object')"
      ]
     },
     "execution_count": 18,
     "metadata": {},
     "output_type": "execute_result"
    }
   ],
   "source": [
    "df_w.columns"
   ]
  },
  {
   "cell_type": "code",
   "execution_count": 19,
   "id": "80b0364a-2f52-46a6-acf3-e0178bfcdea5",
   "metadata": {},
   "outputs": [],
   "source": [
    "df_w.columns = df_m.columns"
   ]
  },
  {
   "cell_type": "code",
   "execution_count": 20,
   "id": "ce0e0e8f-e60e-4f5f-a92f-e032de923ade",
   "metadata": {},
   "outputs": [
    {
     "data": {
      "text/plain": [
       "Index(['0~4세', '5~9세', '10~14세', '15~19세', '20~24세', '25~29세', '30~34세',\n",
       "       '35~39세', '40~44세', '45~49세', '50~54세', '55~59세', '60~64세', '65~69세',\n",
       "       '70~74세', '75~79세', '80~84세', '85~89세', '90~94세', '95~99세', '100세 이상'],\n",
       "      dtype='object')"
      ]
     },
     "execution_count": 20,
     "metadata": {},
     "output_type": "execute_result"
    }
   ],
   "source": [
    "df_w.columns"
   ]
  },
  {
   "cell_type": "code",
   "execution_count": 21,
   "id": "2fea1d62-8d0c-434b-962a-93894cc6c4f8",
   "metadata": {},
   "outputs": [
    {
     "data": {
      "text/plain": [
       "0~4세       1178326\n",
       "5~9세       1184754\n",
       "10~14세     1387285\n",
       "15~19세     1743200\n",
       "20~24세     1852508\n",
       "25~29세     1638106\n",
       "30~34세     2004817\n",
       "35~39세     1980982\n",
       "40~44세     2311387\n",
       "45~49세     2232995\n",
       "50~54세     2217165\n",
       "55~59세     1920820\n",
       "60~64세     1290056\n",
       "65~69세      994183\n",
       "70~74세      800094\n",
       "75~79세      540915\n",
       "80~84세      255600\n",
       "85~89세       95969\n",
       "90~94세       30434\n",
       "95~99세        6200\n",
       "100세 이상       3500\n",
       "Name: 전국  , dtype: object"
      ]
     },
     "execution_count": 21,
     "metadata": {},
     "output_type": "execute_result"
    }
   ],
   "source": [
    "df_m.loc['전국  ']"
   ]
  },
  {
   "cell_type": "markdown",
   "id": "42958fd9-20b2-4910-a367-67d2accf90fa",
   "metadata": {},
   "source": [
    "# 3. 데이터 시각화"
   ]
  },
  {
   "cell_type": "code",
   "execution_count": 23,
   "id": "7d267a77-eb12-4abf-9141-dd3b6aaba558",
   "metadata": {},
   "outputs": [],
   "source": [
    "import matplotlib.pyplot as plt"
   ]
  },
  {
   "cell_type": "code",
   "execution_count": 24,
   "id": "e040277d-737a-401a-ad51-533a7ee1abf2",
   "metadata": {},
   "outputs": [],
   "source": [
    "import matplotlib.pyplot as plt\n",
    "import matplotlib\n",
    "matplotlib.rcParams['font.family'] = 'AppleGothic' #맥 설정\n",
    "matplotlib.rcParams['font.size'] = 15 #폰트 사이즈 결정\n",
    "matplotlib.rcParams['axes.unicode_minus'] = False "
   ]
  },
  {
   "cell_type": "code",
   "execution_count": 25,
   "id": "d333ecea-5a6c-44ee-87cc-93481764ded3",
   "metadata": {},
   "outputs": [
    {
     "data": {
      "image/png": "[encoded data removed]",
      "text/plain": [
       "<Figure size 1000x700 with 1 Axes>"
      ]
     },
     "metadata": {},
     "output_type": "display_data"
    }
   ],
   "source": [
    "plt.figure(figsize=(10,7))\n",
    "plt.barh (df_m.columns, -df_m.iloc[0] // 1000) #단위 천명\n",
    "plt.barh (df_w.columns, df_m.iloc[0] // 1000) #단위 천명\n",
    "plt.xlabel('명')\n",
    "plt.ylabel('나이')\n",
    "plt.xticks(rotation = 45)\n",
    "\n",
    "plt.savefig('2014_인구피라미드.png', dpi = 1000)"
   ]
  },
  {
   "cell_type": "code",
   "execution_count": null,
   "id": "58abb370-365c-4658-830b-af5af8cf2b61",
   "metadata": {},
   "outputs": [],
   "source": []
  }
 ],
 "metadata": {
  "kernelspec": {
   "display_name": "Python 3 (ipykernel)",
   "language": "python",
   "name": "python3"
  },
  "language_info": {
   "codemirror_mode": {
    "name": "ipython",
    "version": 3
   },
   "file_extension": ".py",
   "mimetype": "text/x-python",
   "name": "python",
   "nbconvert_exporter": "python",
   "pygments_lexer": "ipython3",
   "version": "3.12.7"
  }
 },
 "nbformat": 4,
 "nbformat_minor": 5
}
